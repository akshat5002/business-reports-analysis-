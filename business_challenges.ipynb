{
  "nbformat": 4,
  "nbformat_minor": 0,
  "metadata": {
    "colab": {
      "private_outputs": true,
      "provenance": [],
      "authorship_tag": "ABX9TyOIw1RVZk5A8Nqf+GG6pYuy",
      "include_colab_link": true
    },
    "kernelspec": {
      "name": "python3",
      "display_name": "Python 3"
    },
    "language_info": {
      "name": "python"
    }
  },
  "cells": [
    {
      "cell_type": "markdown",
      "metadata": {
        "id": "view-in-github",
        "colab_type": "text"
      },
      "source": [
        "<a href=\"https://colab.research.google.com/github/akshat5002/business-reports-analysis-/blob/main/business_challenges.ipynb\" target=\"_parent\"><img src=\"https://colab.research.google.com/assets/colab-badge.svg\" alt=\"Open In Colab\"/></a>"
      ]
    },
    {
      "cell_type": "markdown",
      "source": [
        "Business Challenges: Identifying High vs. Low-Performing Stores\n",
        " #  Factors Differentiating Store Performance:\n",
        "\n",
        "Location: Foot traffic, demographics, and competition.\n",
        "Store Layout: Effective use of space and product placement.\n",
        "Customer Service: Quality of staff interaction and service.\n",
        "Product Range: Variety and relevance of products offered.\n",
        "Marketing Efforts: Local promotions and advertising effectiveness.\n",
        "\n",
        "\n",
        "\n",
        "#  Impact of External Factors:\n",
        "\n",
        "Markdown Strategies: Aggressive discounts may boost sales but affect margins.\n",
        "Economic Conditions: Recession can reduce consumer spending; growth can increase it.\n",
        "Regional Variations: Local preferences and economic health can influence performance.\n",
        "Optimizing Store Strategies Based on Clustering\n",
        "# Tailored Strategies for Clusters:\n",
        "\n",
        "1. Pricing Strategies: Adjust prices based on cluster performance and customer demographics.\n",
        "2. Inventory Management: Stock different products based on local demand and sales trends.\n",
        "3. Optimizing Markdowns:\n",
        "\n",
        "# Data Analysis: Use sales data to determine the best timing and depth of markdowns.\n",
        "Profitability Focus: Balance between clearing inventory and maintaining profit margins.\n",
        "Data-Driven Decision Making for Growth\n",
        "Grouping Stores for Targeted Strategies:\n",
        "\n",
        "# Performance Clusters: Identify high, medium, and low-performing stores for tailored strategies.\n",
        "Targeted Marketing: Create specific promotions based on cluster characteristics.\n",
        "Influence of External Factors on Clusters:\n",
        "\n",
        "CPI (Consumer Price Index): Rising prices can affect consumer spending habits.\n",
        "Fuel Prices: Higher fuel costs may reduce disposable income for shopping.\n",
        "Unemployment Rates: Higher unemployment can lead to decreased sales in certain areas.\n"
      ],
      "metadata": {
        "id": "mLmjMlg4scsM"
      }
    },
    {
      "cell_type": "code",
      "execution_count": null,
      "metadata": {
        "id": "yPRy85NsmNB6"
      },
      "outputs": [],
      "source": [
        "import pandas as pd"
      ]
    },
    {
      "cell_type": "code",
      "source": [
        "import matplotlib.pyplot as plt\n",
        "import seaborn as sns\n"
      ],
      "metadata": {
        "id": "jFokyODSmZ-u"
      },
      "execution_count": null,
      "outputs": []
    },
    {
      "cell_type": "code",
      "source": [
        "data=pd.read_csv('/content/features.csv')"
      ],
      "metadata": {
        "id": "y7yMqzFnn8Jt"
      },
      "execution_count": null,
      "outputs": []
    },
    {
      "cell_type": "code",
      "source": [
        "data.columns"
      ],
      "metadata": {
        "id": "FeCqrJPTopPE"
      },
      "execution_count": null,
      "outputs": []
    },
    {
      "cell_type": "code",
      "source": [
        "# Load Data\n",
        "data = pd.read_csv(\"/content/features.csv\", parse_dates=[\"Date\"])\n",
        "\n",
        "# Display basic info\n",
        "print(data.info())\n",
        "\n",
        "# Show first few rows\n",
        "print(data.head())"
      ],
      "metadata": {
        "id": "a1W09dIQovWk"
      },
      "execution_count": null,
      "outputs": []
    },
    {
      "cell_type": "code",
      "source": [
        "print(data.isnull().sum())  # Count missing values in each column"
      ],
      "metadata": {
        "id": "0BwhV69qo6Mc"
      },
      "execution_count": null,
      "outputs": []
    },
    {
      "cell_type": "code",
      "source": [
        "# Check missing values\n",
        "print(data.isnull().sum())\n",
        "\n",
        "# Fill missing values in numerical columns with median\n",
        "num_cols = ['Temperature', 'Fuel_Price', 'MarkDown1', 'MarkDown2', 'MarkDown3', 'MarkDown4', 'MarkDown5', 'CPI', 'Unemployment']\n",
        "data[num_cols] = data[num_cols].fillna(data[num_cols].median())\n",
        "\n",
        "# Fill categorical column\n",
        "data['IsHoliday'] = data['IsHoliday'].fillna(data['IsHoliday'].mode()[0])\n"
      ],
      "metadata": {
        "id": "_DVZ472_pBPE"
      },
      "execution_count": null,
      "outputs": []
    },
    {
      "cell_type": "code",
      "source": [
        "# Extract date features\n",
        "data['Year'] = data['Date'].dt.year\n",
        "data['Month'] = data['Date'].dt.month\n",
        "data['Week'] = data['Date'].dt.isocalendar().week\n",
        "data['DayOfWeek'] = data['Date'].dt.dayofweek  # Monday=0, Sunday=6"
      ],
      "metadata": {
        "id": "Nt3bjtagpG-t"
      },
      "execution_count": null,
      "outputs": []
    },
    {
      "cell_type": "code",
      "source": [
        "# Lag features for temperature and fuel price\n",
        "data['Prev_Week_Temp'] = data.groupby('Store')['Temperature'].shift(7)\n",
        "data['Prev_Week_Fuel_Price'] = data.groupby('Store')['Fuel_Price'].shift(7)"
      ],
      "metadata": {
        "id": "fKUAT2lzpMYO"
      },
      "execution_count": null,
      "outputs": []
    },
    {
      "cell_type": "code",
      "source": [
        "# Correlation Heatmap\n",
        "plt.figure(figsize=(12,6))\n",
        "sns.heatmap(data.corr(), annot=True, cmap='coolwarm', fmt='.2f')\n",
        "plt.title(\"Feature Correlation\")\n",
        "plt.show()\n"
      ],
      "metadata": {
        "id": "rl-QChr1pQ0s"
      },
      "execution_count": null,
      "outputs": []
    },
    {
      "cell_type": "code",
      "source": [
        "# Visualize markdown trends over time\n",
        "plt.figure(figsize=(10,5))\n",
        "sns.lineplot(x='Date', y='MarkDown1', data=data)\n",
        "plt.title(\"Markdown 1 Trend Over Time\")\n",
        "plt.show()"
      ],
      "metadata": {
        "id": "7kP7KYVop8Tl"
      },
      "execution_count": null,
      "outputs": []
    },
    {
      "cell_type": "markdown",
      "source": [
        "Advanced Store-Level Analysis\n",
        "\n",
        "Store Opening Date\n",
        "Closed Store Identification\n",
        "Sales Growth/Decline Analysis"
      ],
      "metadata": {
        "id": "wW05uryvthKF"
      }
    },
    {
      "cell_type": "code",
      "source": [
        "# Compare markdowns on holidays vs non-holidays\n",
        "sns.histplot(x='IsHoliday', y='MarkDown1', data=data)\n",
        "plt.title(\"Markdown 1 on Holidays vs Non-Holidays\")\n",
        "plt.show()\n"
      ],
      "metadata": {
        "id": "VdEVfAkJqS6O"
      },
      "execution_count": null,
      "outputs": []
    },
    {
      "cell_type": "markdown",
      "source": [
        "**Identify Store Opening Dates**\n"
      ],
      "metadata": {
        "id": "U1hgY5LkuCYm"
      }
    },
    {
      "cell_type": "code",
      "source": [
        "# Get the first recorded date for each store\n",
        "store_opening_dates = data.groupby(\"Store\")[\"Date\"].min().reset_index()\n",
        "store_opening_dates.columns = [\"Store\", \"Opening_Date\"]\n",
        "\n",
        "print(store_opening_dates.head())"
      ],
      "metadata": {
        "id": "orAGk4Viq8ne"
      },
      "execution_count": null,
      "outputs": []
    },
    {
      "cell_type": "markdown",
      "source": [
        "**Identify Closed Stores**\n"
      ],
      "metadata": {
        "id": "5e239QlsuTHX"
      }
    },
    {
      "cell_type": "code",
      "source": [
        "# Get the last recorded date for each store\n",
        "store_closing_dates = data.groupby(\"Store\")[\"Date\"].max().reset_index()\n",
        "store_closing_dates.columns = [\"Store\", \"Last_Active_Date\"]\n",
        "\n",
        "# Define threshold for closing (e.g., stores inactive for 1 year)\n",
        "latest_date = data[\"Date\"].max()\n",
        "store_closing_dates[\"Days_Inactive\"] = (latest_date - store_closing_dates[\"Last_Active_Date\"]).dt.days\n",
        "\n",
        "# Identify stores inactive for more than a year\n",
        "closed_stores = store_closing_dates[store_closing_dates[\"Days_Inactive\"] > 365]\n",
        "if(closed_stores.shape[0]==0):\n",
        "  print('No closed_stores')"
      ],
      "metadata": {
        "id": "7DjSofLQrDg1"
      },
      "execution_count": null,
      "outputs": []
    },
    {
      "cell_type": "markdown",
      "source": [
        "**Store Clustering: Grouping Stores into 2 Clusters**"
      ],
      "metadata": {
        "id": "IdQ5Sbe6ugpu"
      }
    },
    {
      "cell_type": "code",
      "source": [
        "from sklearn.preprocessing import StandardScaler\n",
        "from sklearn.cluster import KMeans\n",
        "# Selecting relevant store-level features for clustering\n",
        "features = ['Temperature', 'Fuel_Price', 'MarkDown1', 'MarkDown2', 'MarkDown3', 'MarkDown4', 'MarkDown5', 'CPI', 'Unemployment']\n",
        "\n",
        "# Aggregate data at the store level (mean values)\n",
        "store_data = data.groupby(\"Store\")[features].mean().reset_index()\n",
        "\n",
        "# Standardize the data\n",
        "scaler = StandardScaler()\n",
        "store_data_scaled = scaler.fit_transform(store_data[features])\n"
      ],
      "metadata": {
        "id": "7ftFoVSerK4F"
      },
      "execution_count": null,
      "outputs": []
    },
    {
      "cell_type": "code",
      "source": [
        "# Apply K-Means clustering with 2 clusters\n",
        "kmeans = KMeans(n_clusters=2, random_state=42)\n",
        "store_data[\"Cluster\"] = kmeans.fit_predict(store_data_scaled)\n",
        "\n",
        "# View cluster assignments\n",
        "print(store_data[[\"Store\", \"Cluster\"]].head())\n"
      ],
      "metadata": {
        "id": "nV1F_HnCrVat"
      },
      "execution_count": null,
      "outputs": []
    },
    {
      "cell_type": "code",
      "source": [
        "plt.figure(figsize=(10,6))\n",
        "sns.scatterplot(x=store_data[\"CPI\"], y=store_data[\"Unemployment\"], hue=store_data[\"Cluster\"], palette=\"viridis\")\n",
        "plt.xlabel(\"CPI (Consumer Price Index)\")\n",
        "plt.ylabel(\"Unemployment Rate\")\n",
        "plt.title(\"Store Clustering Based on Economic Indicators\")\n",
        "plt.legend(title=\"Cluster\")\n",
        "plt.show()"
      ],
      "metadata": {
        "id": "Raind8u3rb09"
      },
      "execution_count": null,
      "outputs": []
    },
    {
      "cell_type": "markdown",
      "source": [
        "Business Interpretation of Clusters\n",
        "🔹 Cluster 0: High-Performance Stores\n",
        "\n",
        "Characteristics:\n",
        "Lower unemployment rates.\n",
        "Stable fuel prices.\n",
        "Fewer markdowns needed.\n",
        "Implication:\n",
        "These stores are likely located in economically strong regions, indicating a healthy customer base and effective sales strategies.\n",
        "🔹 Cluster 1: Low-Performance Stores\n",
        "\n",
        "Characteristics:\n",
        "Higher markdowns required.\n",
        "Often found in areas facing economic challenges.\n",
        "Implication:\n",
        "These stores may need targeted promotions or changes in business strategies to improve performance and attract more customers."
      ],
      "metadata": {
        "id": "F0dEqqM2u72v"
      }
    },
    {
      "cell_type": "markdown",
      "source": [
        "                    Business Goals & Outcomes\n",
        "#Segment Stores:\n",
        "\n",
        "Divide stores into two distinct clusters based on economic and operational factors.\n",
        "#Identify High-Performing Characteristics:\n",
        "\n",
        "#Analyze and recognize traits of high-performing stores to replicate their successful strategies.\n",
        "#Enhance Markdown Efficiency:\n",
        "\n",
        "Tailor promotions to specific store clusters to improve markdown effectiveness.\n",
        "Leverage Data-Driven Insights:\n",
        "\n",
        "#Use data insights to make regional adjustments in pricing and inventory management.\n",
        "\n",
        "\n"
      ],
      "metadata": {
        "id": "Crf58MghvRFm"
      }
    }
  ]
}